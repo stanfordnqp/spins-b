{
 "cells": [
  {
   "cell_type": "markdown",
   "metadata": {
    "colab_type": "text",
    "id": "9y2Ct3NmpzXT"
   },
   "source": [
    "# This colab notebook provides an interactive way to get acquainted with the SPINS framework without having to install all the dependencies on your local machine. This notebook is structured to emphasize exposure to the SPINS components over efficient coding - for a better example of code for actually running inverse-design for your own devices, look at the example in `spins-b/examples/goos/bend90/bend90.py`."
   ]
  },
  {
   "cell_type": "code",
   "execution_count": null,
   "metadata": {
    "colab": {
     "base_uri": "https://localhost:8080/",
     "height": 122
    },
    "colab_type": "code",
    "executionInfo": {
     "elapsed": 28301,
     "status": "ok",
     "timestamp": 1591302440005,
     "user": {
      "displayName": "Jinhie Lee Skarda",
      "photoUrl": "",
      "userId": "01185728681670818904"
     },
     "user_tz": 420
    },
    "id": "YQFk5nsxJrTT",
    "outputId": "768325d2-b7a6-4b71-f1e1-4403df443a34"
   },
   "outputs": [],
   "source": [
    "'''\n",
    "Mount your google drive folder to this notebook and set python paths so you can\n",
    "access the spins-b code.\n",
    "'''\n",
    "# Enter the foldername in your Drive where in google drive you have saved \n",
    "# spins-b directory\n",
    "# If the spins-b directory is saved in 'My Drive' of the google drive, \n",
    "# then you can leave it as ''. \n",
    "folder_name = ''\n",
    "\n",
    "# This mounts your Google Drive to the Colab VM.\n",
    "from google.colab import drive\n",
    "drive.mount('/content/drive', force_remount=True)\n",
    "\n",
    "# Now that we've mounted your Drive, this ensures that\n",
    "# the Python interpreter of the Colab VM can load\n",
    "# python files from within it.\n",
    "import os\n",
    "import sys\n",
    "full_path = os.path.join('/content/drive/My Drive',folder_name)\n",
    "full_path_spins = os.path.join(full_path,'spins-b')\n",
    "sys.path.append(full_path_spins)\n",
    "\n"
   ]
  },
  {
   "cell_type": "markdown",
   "metadata": {
    "colab_type": "text",
    "id": "MZQvsZz-LMkY"
   },
   "source": []
  },
  {
   "cell_type": "code",
   "execution_count": null,
   "metadata": {
    "colab": {},
    "colab_type": "code",
    "id": "f3he-koCJxFa"
   },
   "outputs": [],
   "source": [
    "'''\n",
    "Install the spins-b library and dependencies.\n",
    "'''\n",
    "os.chdir(full_path)\n",
    "!pip install ./spins-b\n",
    "\n"
   ]
  },
  {
   "cell_type": "code",
   "execution_count": null,
   "metadata": {
    "colab": {},
    "colab_type": "code",
    "id": "8YSuT5nPLOYs"
   },
   "outputs": [],
   "source": [
    "'''\n",
    "Import necessary python libraries and SPINS-B libraries.\n",
    "'''\n",
    "\n",
    "import datetime\n",
    "import logging\n",
    "import os\n",
    "import pickle\n",
    "\n",
    "import matplotlib.pyplot as plt\n",
    "import numpy as np\n",
    "\n",
    "from spins import goos\n",
    "from spins.goos import compat\n",
    "from spins.goos_sim import maxwell\n",
    "from spins.invdes.problem_graph import optplan, log_tools"
   ]
  },
  {
   "cell_type": "code",
   "execution_count": null,
   "metadata": {
    "colab": {},
    "colab_type": "code",
    "id": "oZGKpMp8fmPf"
   },
   "outputs": [],
   "source": [
    "'''\n",
    "Set up Optimization Plan object.\n",
    "'''\n",
    "## Create folder where all spins-b results will be saved. ##\n",
    "\n",
    "# Currently, the folder will be named \"bend90_{current_timestamp}\" and will\n",
    "# be located in your Drive folder containing spins-b. To change this, change\n",
    "# the following line and set `out_folder_name` somewhere else.\n",
    "out_folder_name = \"bend90_\" + datetime.datetime.now().strftime(\"%Y%m%d-%H%M%S\")\n",
    "out_folder = os.path.join(os.getcwd(),out_folder_name)\n",
    "if (not os.path.exists(out_folder)):\n",
    "  os.makedirs(out_folder)\n",
    "\n",
    "## Setup logging and Optimization Plan. ##\n",
    "plan = goos.OptimizationPlan(save_path = out_folder)"
   ]
  },
  {
   "cell_type": "code",
   "execution_count": null,
   "metadata": {
    "colab": {},
    "colab_type": "code",
    "id": "kURxylbygDke"
   },
   "outputs": [],
   "source": [
    "'''\n",
    "Define the constant background structures that will not be changed\n",
    "during the design. In this case, these are the input and output waveguides.\n",
    "'''\n",
    "with plan:\n",
    "  # Define input waveguide.\n",
    "  wg_in = goos.Cuboid(pos=goos.Constant([-2000, 0, 0]),\n",
    "                            extents=goos.Constant([3000, 400, 220]),\n",
    "                            material=goos.material.Material(index=3.45))\n",
    "  # Define output waveguide.\n",
    "  wg_out = goos.Cuboid(pos=goos.Constant([0, 2000, 0]),\n",
    "                             extents=goos.Constant([400, 3000, 220]),\n",
    "                             material=goos.material.Material(index=3.45))\n",
    "  \n",
    "  # Group these background structures together.\n",
    "  eps_background_structures = goos.GroupShape([wg_in, wg_out])"
   ]
  },
  {
   "cell_type": "code",
   "execution_count": null,
   "metadata": {
    "colab": {
     "base_uri": "https://localhost:8080/",
     "height": 281
    },
    "colab_type": "code",
    "executionInfo": {
     "elapsed": 893,
     "status": "ok",
     "timestamp": 1591303851577,
     "user": {
      "displayName": "Jinhie Lee Skarda",
      "photoUrl": "",
      "userId": "01185728681670818904"
     },
     "user_tz": 420
    },
    "id": "U1G6Hhi5wYnx",
    "outputId": "2227604f-714c-4335-a778-4440f46f2e3f"
   },
   "outputs": [],
   "source": [
    "'''\n",
    "Visualize the constant background structures we just defined.\n",
    "'''\n",
    "with plan:\n",
    "  eps_rendered = maxwell.RenderShape(\n",
    "            eps_background_structures,\n",
    "            region=goos.Box3d(center=[0, 0, 0], extents=[3000, 3000, 0]),\n",
    "            mesh=maxwell.UniformMesh(dx=40),\n",
    "            wavelength=1550,\n",
    "        )\n",
    "  \n",
    "  goos.util.visualize_eps(eps_rendered.get().array[2])"
   ]
  },
  {
   "cell_type": "code",
   "execution_count": null,
   "metadata": {
    "colab": {},
    "colab_type": "code",
    "id": "0GwoZ-QJgtpu"
   },
   "outputs": [],
   "source": [
    "'''\n",
    "Define and initialize the design region.\n",
    "'''\n",
    "with plan:\n",
    "  # Use random initialization, where each pixel is randomly assigned\n",
    "  # a value in the range [0.3,0.7].\n",
    "  def initializer(size):\n",
    "            # Set the seed immediately before calling `random` to ensure\n",
    "            # reproducibility.\n",
    "            np.random.seed(247)\n",
    "            return np.random.random(size) * 0.2 + 0.5\n",
    "  \n",
    "  # Define the design region as a pixelated continuous shape, which is composed\n",
    "  # of voxels whose permittivities can take on any value between `material` and\n",
    "  # `material2`.\n",
    "  var, design = goos.pixelated_cont_shape(\n",
    "                initializer=initializer,\n",
    "                pos=goos.Constant([0, 0, 0]),\n",
    "                extents=[2000, 2000, 220],\n",
    "                material=goos.material.Material(index=1),\n",
    "                material2=goos.material.Material(index=3.45),\n",
    "                pixel_size=[40, 40, 220],\n",
    "                var_name=\"var_cont\")\n",
    "  \n",
    "  eps = goos.GroupShape([eps_background_structures, design])"
   ]
  },
  {
   "cell_type": "code",
   "execution_count": null,
   "metadata": {
    "colab": {
     "base_uri": "https://localhost:8080/",
     "height": 281
    },
    "colab_type": "code",
    "executionInfo": {
     "elapsed": 808,
     "status": "ok",
     "timestamp": 1591303960484,
     "user": {
      "displayName": "Jinhie Lee Skarda",
      "photoUrl": "",
      "userId": "01185728681670818904"
     },
     "user_tz": 420
    },
    "id": "YBi-WyFehsU8",
    "outputId": "261e40e3-3271-467f-9fbd-4969d5022adf"
   },
   "outputs": [],
   "source": [
    "\"\"\"\n",
    "Visualize the design region as a sanity check.\n",
    "\"\"\"\n",
    "with plan:\n",
    "  eps_rendered = maxwell.RenderShape(\n",
    "            eps,\n",
    "            region=goos.Box3d(center=[0, 0, 0], extents=[3000, 3000, 0]),\n",
    "            mesh=maxwell.UniformMesh(dx=40),\n",
    "            wavelength=1550,\n",
    "        )\n",
    "  goos.util.visualize_eps(eps_rendered.get().array[2])"
   ]
  },
  {
   "cell_type": "code",
   "execution_count": null,
   "metadata": {
    "colab": {},
    "colab_type": "code",
    "id": "Hsxxlk8khvFU"
   },
   "outputs": [],
   "source": [
    "'''\n",
    "Setup EM solver - in this case, we use the FDFD solver that comes with \n",
    "spins-b, maxwell.\n",
    "'''\n",
    "with plan:\n",
    "  # Define wavelength and solver.\n",
    "  my_wavelength = 1550\n",
    "  my_solver = \"local_direct\"\n",
    "\n",
    "  # Define simulation space.\n",
    "  my_simulation_space = maxwell.SimulationSpace(\n",
    "            mesh=maxwell.UniformMesh(dx=40),\n",
    "            sim_region=goos.Box3d(\n",
    "                center=[0, 0, 0],\n",
    "                extents=[4000, 4000, 40],\n",
    "            ),\n",
    "            pml_thickness=[400, 400, 400, 400, 0, 0])\n",
    "  \n",
    "  # Define a waveguide mode source.\n",
    "  my_sources = [maxwell.WaveguideModeSource(center=[-1400, 0, 0],\n",
    "                                        extents=[0, 2500, 1000],\n",
    "                                        normal=[1, 0, 0],\n",
    "                                        mode_num=0,\n",
    "                                        power=1)]\n",
    "  \n",
    "  \n",
    "  # Define simulation outputs.\n",
    "  my_outputs=[ maxwell.Epsilon(name=\"eps\"),\n",
    "               maxwell.ElectricField(name=\"field\"),\n",
    "               maxwell.WaveguideModeOverlap(name=\"overlap\",\n",
    "                                         center=[0, 1400, 0],\n",
    "                                         extents=[2500, 0, 1000],\n",
    "                                         normal=[0, 1, 0],\n",
    "                                         mode_num=0,\n",
    "                                         power=1)]\n",
    "\n",
    "  # Setup the simulation object.\n",
    "  sim = maxwell.fdfd_simulation(\n",
    "        name=\"sim_cont\",\n",
    "        wavelength= my_wavelength,\n",
    "        background=goos.material.Material(index=1.0),\n",
    "        eps=eps,\n",
    "        simulation_space = my_simulation_space,\n",
    "        solver = my_solver,\n",
    "        sources = my_sources,\n",
    "        outputs= my_outputs\n",
    "    )"
   ]
  },
  {
   "cell_type": "code",
   "execution_count": null,
   "metadata": {
    "colab": {
     "base_uri": "https://localhost:8080/",
     "height": 299
    },
    "colab_type": "code",
    "executionInfo": {
     "elapsed": 3757,
     "status": "ok",
     "timestamp": 1591304258876,
     "user": {
      "displayName": "Jinhie Lee Skarda",
      "photoUrl": "",
      "userId": "01185728681670818904"
     },
     "user_tz": 420
    },
    "id": "p41Elig7lzNf",
    "outputId": "c4a53cd4-8df5-477b-8f71-19f4bec5ace9"
   },
   "outputs": [],
   "source": [
    "'''\n",
    "Visualize simulation of initial structure, as a sanity check.\n",
    "'''\n",
    "with plan:\n",
    "  initial_structure = np.squeeze(sim['eps'].get().array)\n",
    "  initial_field = np.squeeze(sim['field'].get().array)\n",
    "  initial_overlap = np.squeeze(sim['overlap'].get().array)\n",
    "\n",
    "  plt.figure()\n",
    "  plt.subplot(1,2,1)\n",
    "  plt.imshow(\n",
    "    np.abs(\n",
    "      initial_structure[2]))\n",
    "  plt.colorbar()\n",
    "\n",
    "  plt.subplot(1,2,2)\n",
    "  plt.imshow(\n",
    "    np.abs(\n",
    "      initial_field[2]))\n",
    "  plt.colorbar()\n",
    "  plt.show()\n",
    "\n",
    "  print(\"Initial overlap is {}.\".format(np.abs(initial_overlap)))\n",
    "\n"
   ]
  },
  {
   "cell_type": "code",
   "execution_count": null,
   "metadata": {
    "colab": {},
    "colab_type": "code",
    "id": "JmoRzbAjqfZc"
   },
   "outputs": [],
   "source": [
    "\"\"\"\n",
    "Define objective function to maximize the transmission of the fundamental\n",
    "waveguide mode.\n",
    "\"\"\"\n",
    "obj = goos.rename(goos.abs(sim[\"overlap\"]), name=\"obj_cont\")"
   ]
  },
  {
   "cell_type": "code",
   "execution_count": null,
   "metadata": {
    "colab": {},
    "colab_type": "code",
    "id": "2ZI_7uzsGCT_"
   },
   "outputs": [],
   "source": [
    "\"\"\"\n",
    "Setup the optimization strategy.\n",
    "\"\"\"\n",
    "with plan:\n",
    "  goos.opt.scipy_maximize(\n",
    "                obj,\n",
    "                \"L-BFGS-B\",\n",
    "                monitor_list=[sim[\"eps\"], sim[\"field\"], sim[\"overlap\"], obj],\n",
    "                max_iters=15,\n",
    "                name=\"opt_cont\")"
   ]
  },
  {
   "cell_type": "code",
   "execution_count": null,
   "metadata": {
    "colab": {},
    "colab_type": "code",
    "id": "mgzYV-36G_b6"
   },
   "outputs": [],
   "source": [
    "\"\"\"\n",
    "Save the plan.\n",
    "\"\"\"\n",
    "with plan:\n",
    "  plan.save()"
   ]
  },
  {
   "cell_type": "code",
   "execution_count": null,
   "metadata": {
    "colab": {
     "base_uri": "https://localhost:8080/",
     "height": 1000
    },
    "colab_type": "code",
    "executionInfo": {
     "elapsed": 68849,
     "status": "ok",
     "timestamp": 1591304570134,
     "user": {
      "displayName": "Jinhie Lee Skarda",
      "photoUrl": "",
      "userId": "01185728681670818904"
     },
     "user_tz": 420
    },
    "id": "300Lztg9sMiH",
    "outputId": "4dcf7409-015c-4076-93a5-d6065b92d63d"
   },
   "outputs": [],
   "source": [
    "\"\"\"\n",
    "Run the plan.\n",
    "\"\"\"\n",
    "# Setup logging.\n",
    "LOG_FORMAT = \"[%(asctime)-15s][%(levelname)s][%(module)s][%(funcName)s] %(message)s\"\n",
    "logging.basicConfig(stream=sys.stdout,format=LOG_FORMAT)\n",
    "logging.getLogger(\"\").setLevel(logging.INFO)\n",
    "logger = logging.getLogger(\"\")\n",
    "\n",
    "# Run the plan.\n",
    "with plan:\n",
    "  plan.run()"
   ]
  },
  {
   "cell_type": "code",
   "execution_count": null,
   "metadata": {
    "colab": {},
    "colab_type": "code",
    "id": "hkWElZiWdXOJ"
   },
   "outputs": [],
   "source": [
    "\"\"\"\n",
    "Set the folder for visualizing optimization results.\n",
    "\"\"\"\n",
    "# Currently, this will visualize results in the output folder defined \n",
    "# at the beginning of this notebook in the cell where we define the \n",
    "# OptimizationPlan object - but, you can change this variable\n",
    "# to visualize results from other folders in your google drive.\n",
    "folder_plt = out_folder"
   ]
  },
  {
   "cell_type": "code",
   "execution_count": null,
   "metadata": {
    "colab": {
     "base_uri": "https://localhost:8080/",
     "height": 88
    },
    "colab_type": "code",
    "executionInfo": {
     "elapsed": 699,
     "status": "ok",
     "timestamp": 1591304596317,
     "user": {
      "displayName": "Jinhie Lee Skarda",
      "photoUrl": "",
      "userId": "01185728681670818904"
     },
     "user_tz": 420
    },
    "id": "ot-w0xQ-zd8l",
    "outputId": "59eeb2a9-1994-4b72-b188-2d16066a07ba"
   },
   "outputs": [],
   "source": [
    "\"\"\"\n",
    "Open a pkl file and look at what's inside, as a sanity check.\n",
    "\"\"\"\n",
    "with open(os.path.join(folder_plt, \"step1.pkl\"), \"rb\") as fp:\n",
    "  data = pickle.load(fp)\n",
    "\n",
    "print(\"Pkl dictionary: \", data.keys())\n",
    "print(\"'monitor_data' dictionary: \", data['monitor_data'].keys())\n",
    "print(\"'objective value': \", data['monitor_data']['obj_cont'])"
   ]
  },
  {
   "cell_type": "code",
   "execution_count": null,
   "metadata": {
    "colab": {
     "base_uri": "https://localhost:8080/",
     "height": 297
    },
    "colab_type": "code",
    "executionInfo": {
     "elapsed": 1095,
     "status": "ok",
     "timestamp": 1591304651736,
     "user": {
      "displayName": "Jinhie Lee Skarda",
      "photoUrl": "",
      "userId": "01185728681670818904"
     },
     "user_tz": 420
    },
    "id": "XHHoNYLwxmng",
    "outputId": "6d9d0db6-f4ed-4bbb-86d0-3f461a4032c5"
   },
   "outputs": [],
   "source": [
    "\"\"\"\n",
    "Visualize the objective function and overlap monitors as a function of iteration.\n",
    "\"\"\"\n",
    "\n",
    "# Load the logged monitor data.\n",
    "df = log_tools.create_log_data_frame(log_tools.load_all_logs(folder_plt))\n",
    "monitor_obj = log_tools.get_joined_scalar_monitors(df,\"obj_cont\",\n",
    "                                                   event_name = \"optimizing\", scalar_operation = None)\n",
    "monitor_overlap = log_tools.get_joined_scalar_monitors(df,\"sim_cont.overlap\",\n",
    "                                                       event_name = \"optimizing\",scalar_operation = \"magnitude\")\n",
    "\n",
    "# Plot the logged monitor data.\n",
    "plt.figure()\n",
    "\n",
    "plt.subplot(2, 1, 1)\n",
    "plt.plot(monitor_obj.iterations,monitor_obj.data,'k-')\n",
    "plt.xlabel(\"Iteration\")\n",
    "plt.ylabel(\"Objective\")\n",
    "plt.tight_layout()\n",
    "\n",
    "plt.subplot(2, 1, 2)\n",
    "plt.plot(monitor_overlap.iterations,monitor_overlap.data,'k-')\n",
    "plt.xlabel(\"Iteration\")\n",
    "plt.ylabel(\"Overlap\")\n",
    "plt.tight_layout()"
   ]
  },
  {
   "cell_type": "code",
   "execution_count": null,
   "metadata": {
    "colab": {
     "base_uri": "https://localhost:8080/",
     "height": 297
    },
    "colab_type": "code",
    "executionInfo": {
     "elapsed": 1196,
     "status": "ok",
     "timestamp": 1591304688734,
     "user": {
      "displayName": "Jinhie Lee Skarda",
      "photoUrl": "",
      "userId": "01185728681670818904"
     },
     "user_tz": 420
    },
    "id": "Y1Ty1PRcxWmh",
    "outputId": "564cd12d-7c9d-4b64-f9a7-796d7049af25"
   },
   "outputs": [],
   "source": [
    "\"\"\"\n",
    "Visualize the final structure and fields.\n",
    "\"\"\"\n",
    "step = goos.util.get_latest_log_step(folder_plt)\n",
    "\n",
    "with open(os.path.join(folder_plt, \"step{}.pkl\".format(step)), \"rb\") as fp:\n",
    "  data = pickle.load(fp)\n",
    "\n",
    "plt.figure()\n",
    "\n",
    "plt.subplot(1, 2, 1)\n",
    "plt.imshow(\n",
    "    np.abs(data[\"monitor_data\"][\"sim_cont.eps\"][2].squeeze()))\n",
    "plt.colorbar()\n",
    "plt.title(\"|Eps_z|\")\n",
    "plt.tight_layout()\n",
    "\n",
    "plt.subplot(1, 2, 2)\n",
    "plt.imshow(\n",
    "    np.abs(\n",
    "      data[\"monitor_data\"][\"sim_cont.field\"][2].squeeze()))\n",
    "plt.colorbar()\n",
    "plt.title(\"|E_z|\")\n",
    "plt.tight_layout()\n",
    "\n",
    "plt.savefig(os.path.join(folder_plt,\"fields_step\"+str(step)+\".png\"))\n",
    "plt.show()"
   ]
  },
  {
   "cell_type": "markdown",
   "metadata": {
    "colab_type": "text",
    "id": "xgxR6gSWjiaN"
   },
   "source": [
    "The next two cells are here to play around with how the CubicParam parametrization initial conditions look with different `control_point_spacing` and different `sigmoid_factor` thresholding strengths."
   ]
  },
  {
   "cell_type": "code",
   "execution_count": null,
   "metadata": {
    "colab": {},
    "colab_type": "code",
    "id": "ywolu2-OTGyJ"
   },
   "outputs": [],
   "source": [
    "\"\"\"\n",
    "Switch to using CubicParam.\n",
    "\"\"\"\n",
    "# We setup a temporary optimization plan object here so everything constructed\n",
    "# here is not added to the optimization plan we have been working with in this\n",
    "# example. So, you can modify the parametrizations here without affecting\n",
    "# anything defined previously in this notebook.\n",
    "temp_plan = goos.OptimizationPlan()\n",
    "\n",
    "with temp_plan:\n",
    "  # Use random initialization, where each pixel is randomly assigned\n",
    "  # a value in the range [0.3,0.7].\n",
    "  def initializer(size):\n",
    "            # Set the seed immediately before calling `random` to ensure\n",
    "            # reproducibility.\n",
    "            np.random.seed(247)\n",
    "            return np.random.random(size) * 0.2 + 0.5\n",
    "  \n",
    "  # Define the design region using bicubic interpolation parametrization, \n",
    "  # where the voxel values for the pixels of size `pixel_spacing` are set\n",
    "  # by doing bicubic interpolation of the permittivity values on a coarse grid\n",
    "  # where each point is separated by `control_point_spacing`.\n",
    "  # `control_point_spacing` roughly controls the feature sizes produced\n",
    "  # in the final device (so a larger `control_point_spacing` should be used\n",
    "  # to produce a device with larger features).\n",
    "  var, design = goos.cubic_param_shape(\n",
    "                initializer=initializer,\n",
    "                pos=goos.Constant([0, 0, 0]),\n",
    "                extents=[2000, 2000, 220],\n",
    "                material=goos.material.Material(index=1),\n",
    "                material2=goos.material.Material(index=3.45),\n",
    "                pixel_spacing=40,\n",
    "                control_point_spacing=200,\n",
    "                var_name=\"var_cont_cubic\")\n",
    "  \n",
    "  # To push the designed device to be more discrete (i.e. consist only of the\n",
    "  # background and foreground materials), setup thresholding by multiplying \n",
    "  # the cubic parametrization by a sigmoid function to push permittivity values\n",
    "  # toward either the background or foreground index. The `sigmoid_factor`\n",
    "  # controls how steep the sigmoid function is and thus how discrete the device\n",
    "  # will be. The `bend90.py` example in this directory shows an example of a\n",
    "  # more complex optimization strategy where we run multiple optimization\n",
    "  # stages and gradually increase the strength of the sigmoid thresholding.\n",
    "  sigmoid_factor = goos.Variable(8, parameter=True, name=\"discr_factor\")\n",
    "  design = goos.cast(goos.Sigmoid(sigmoid_factor * (2 * design - 1)),\n",
    "                           goos.Shape)\n",
    "  eps = goos.GroupShape([eps_background_structures, design])"
   ]
  },
  {
   "cell_type": "code",
   "execution_count": null,
   "metadata": {
    "colab": {
     "base_uri": "https://localhost:8080/",
     "height": 281
    },
    "colab_type": "code",
    "executionInfo": {
     "elapsed": 1180,
     "status": "ok",
     "timestamp": 1591304950771,
     "user": {
      "displayName": "Jinhie Lee Skarda",
      "photoUrl": "",
      "userId": "01185728681670818904"
     },
     "user_tz": 420
    },
    "id": "VEzYtifjTGyM",
    "outputId": "80bb7b96-b90e-4033-904c-eea29cbada74"
   },
   "outputs": [],
   "source": [
    "\"\"\"\n",
    "Visualize the structure we have initialized in the previous cell.\n",
    "\"\"\"\n",
    "with temp_plan:\n",
    "  eps_rendered = maxwell.RenderShape(\n",
    "            eps,\n",
    "            region=goos.Box3d(center=[0, 0, 0], extents=[3000, 3000, 0]),\n",
    "            mesh=maxwell.UniformMesh(dx=40),\n",
    "            wavelength=1550,\n",
    "        )\n",
    "  goos.util.visualize_eps(eps_rendered.get().array[2])"
   ]
  },
  {
   "cell_type": "code",
   "execution_count": null,
   "metadata": {
    "colab": {},
    "colab_type": "code",
    "id": "8d_rB2J7bvGK"
   },
   "outputs": [],
   "source": []
  }
 ],
 "metadata": {
  "colab": {
   "collapsed_sections": [],
   "name": "bend90.ipynb",
   "provenance": []
  },
  "kernelspec": {
   "display_name": "Python 3",
   "name": "python3"
  }
 },
 "nbformat": 4,
 "nbformat_minor": 0
}
