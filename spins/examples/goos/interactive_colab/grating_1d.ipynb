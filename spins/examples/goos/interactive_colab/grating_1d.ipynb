{
 "cells": [
  {
   "cell_type": "markdown",
   "metadata": {
    "colab_type": "text",
    "id": "DsuB1VhIqkIX"
   },
   "source": [
    "# This colab notebook provides an interactive way to get acquainted with the SPINS framework without having to install all the dependencies on your local machine. This notebook is structured to emphasize exposure to the SPINS components over efficient coding - for a better example of code for actually running inverse-design for your own devices, look at the example in `spins-b/examples/goos/grating_1d/grating_1d.py`."
   ]
  },
  {
   "cell_type": "code",
   "execution_count": null,
   "metadata": {
    "colab": {
     "base_uri": "https://localhost:8080/",
     "height": 33
    },
    "colab_type": "code",
    "executionInfo": {
     "elapsed": 1416,
     "status": "ok",
     "timestamp": 1591311377731,
     "user": {
      "displayName": "Geun Ho Ahn",
      "photoUrl": "",
      "userId": "16986969930838924722"
     },
     "user_tz": 420
    },
    "id": "atz4xLrTGGli",
    "outputId": "802a0404-2c82-46d3-df02-22b511042976"
   },
   "outputs": [],
   "source": [
    "'''\n",
    "Mount your google drive folder to this notebook and set python paths so you can\n",
    "access the spins-b code.\n",
    "'''\n",
    "# Enter the foldername in your Drive where in google drive you have saved \n",
    "# spins-b directory\n",
    "# If the spins-b directory is saved in 'My Drive' of the google drive, \n",
    "# then you can leave it as ''. \n",
    "folder_name = ''\n",
    "\n",
    "# This mounts your Google Drive to the Colab VM.\n",
    "from google.colab import drive\n",
    "drive.mount('/content/drive', force_remount=True)\n",
    "\n",
    "# Now that we've mounted your Drive, this ensures that\n",
    "# the Python interpreter of the Colab VM can load\n",
    "# python files from within it.\n",
    "import os\n",
    "import sys\n",
    "full_path = os.path.join('/content/drive/My Drive',folder_name)\n",
    "full_path_spins = os.path.join(full_path,'spins-b')\n",
    "sys.path.append(full_path_spins)\n"
   ]
  },
  {
   "cell_type": "code",
   "execution_count": null,
   "metadata": {
    "colab": {
     "base_uri": "https://localhost:8080/",
     "height": 716
    },
    "colab_type": "code",
    "executionInfo": {
     "elapsed": 16559,
     "status": "ok",
     "timestamp": 1591311395285,
     "user": {
      "displayName": "Geun Ho Ahn",
      "photoUrl": "",
      "userId": "16986969930838924722"
     },
     "user_tz": 420
    },
    "id": "XlMaaTRzL5qz",
    "outputId": "3f6f8f51-7dd4-41ab-9b1e-6a83ecea4e7d"
   },
   "outputs": [],
   "source": [
    "# running this cell downloads spins-b. Accordingly, you need to run only once in my knowledge..\n",
    "os.chdir(full_path)\n",
    "!pip install ./spins-b\n",
    "!pip install scikit-umfpack\n",
    "\n"
   ]
  },
  {
   "cell_type": "code",
   "execution_count": null,
   "metadata": {
    "colab": {},
    "colab_type": "code",
    "id": "STcjCA-CHWoN"
   },
   "outputs": [],
   "source": [
    "import datetime\n",
    "import logging\n",
    "import dataclasses\n",
    "import os\n",
    "import pickle\n",
    "from typing import Optional, Tuple, Union\n",
    "\n",
    "import matplotlib.pyplot as plt\n",
    "import numpy as np\n",
    "\n",
    "from spins import goos\n",
    "from spins.goos_sim import maxwell\n"
   ]
  },
  {
   "cell_type": "code",
   "execution_count": null,
   "metadata": {
    "colab": {},
    "colab_type": "code",
    "id": "yq412alzLhaM"
   },
   "outputs": [],
   "source": [
    "# set-up with saving folder, and optimization plan\n",
    "out_folder_name = \"grating_full_opt\" #The folder will be saved in My Drive of the google drive. \n",
    "folder_plt = out_folder_name #Plotting folder is separately here, in case one wishes to plot from another folder. \n",
    "out_folder = os.path.join(os.getcwd(),out_folder_name)\n",
    "if (not os.path.exists(out_folder)):\n",
    "  os.makedirs(out_folder)\n",
    "\n",
    "goos.util.setup_logging(out_folder)\n",
    "plan = goos.OptimizationPlan(save_path = out_folder)"
   ]
  },
  {
   "cell_type": "code",
   "execution_count": null,
   "metadata": {
    "colab": {},
    "colab_type": "code",
    "id": "KlzwmyRXLnpB"
   },
   "outputs": [],
   "source": [
    "# set - up variables needed for grating. \n",
    "\n",
    "@dataclasses.dataclass\n",
    "class Options:\n",
    "    \"\"\"Maintains list of options for the optimization.\n",
    "\n",
    "    Attributes:\n",
    "        coupler_len: Length of the grating coupler.\n",
    "        wg_width: Width of the grating coupler. Only relevant for GDS file\n",
    "            generation.\n",
    "        wg_len: Length of the waveguide to which the grating coupler couples.\n",
    "        wg_thickness: Thickness of the waveguide.\n",
    "        etch_frac: Etch fraction of the grating.\n",
    "        min_features: Minimum feature sizes.\n",
    "        box_size: Thickness of the buried oxide layer.\n",
    "        source_angle_deg: Angle of the Gaussian beam in degrees relative to\n",
    "            the normal.\n",
    "\n",
    "        buffer_len: Additional distance to add to the top and bottom of the\n",
    "            simulation for simulation accuracy.\n",
    "\n",
    "        eps_bg: Refractive index of the background.\n",
    "        eps_fg: Refraction index of the waveguide/grating.\n",
    "\n",
    "        beam_dist: Distance of the Gaussian beam from the grating.\n",
    "        beam_width: Diameter of the Gaussian beam.\n",
    "        beam_extents: Length of the Gaussian beam to use in the simulation.\n",
    "\n",
    "        wlen: Wavelength to simulate at.\n",
    "        dx: Grid spacing to use in the simulation.\n",
    "        pixel_size: Pixel size of the continuous grating coupler\n",
    "            parametrization.\n",
    "    \"\"\"\n",
    "    coupler_len: float = 12000\n",
    "    wg_width: float = 10000\n",
    "    wg_len: float = 2400\n",
    "    wg_thickness: float = 220\n",
    "    box_size: float = 2000\n",
    "    source_angle_deg: float = -10\n",
    "    buffer_len: float = 2000\n",
    "    eps_bg: float = 1.444\n",
    "    eps_wg: float = 3.4765\n",
    "    beam_dist: float = 1000\n",
    "    beam_width: float = 10400\n",
    "    beam_extents: float = 14000\n",
    "    wlen: float = 1550\n",
    "    dx: float = 20\n",
    "    pixel_size: float = 20\n",
    "\n",
    "    etch_frac: float = 0.5\n",
    "    min_features: float = 100\n",
    "\n",
    "params = Options()"
   ]
  },
  {
   "cell_type": "code",
   "execution_count": null,
   "metadata": {
    "colab": {},
    "colab_type": "code",
    "id": "uwU9RJrTOlEb"
   },
   "outputs": [],
   "source": [
    "#set-up background shapes\n",
    "with plan:\n",
    "    substrate = goos.Cuboid(\n",
    "        pos=goos.Constant([\n",
    "             params.coupler_len / 2, 0,\n",
    "            -params.box_size - params.wg_thickness / 2 - 5000]),\n",
    "        extents=goos.Constant([params.coupler_len + 10000, 1000, 10000]),\n",
    "        material=goos.material.Material(index=params.eps_wg))\n",
    "    \n",
    "    waveguide = goos.Cuboid(\n",
    "        pos=goos.Constant([-params.wg_len / 2, 0, 0]),\n",
    "        extents=goos.Constant(\n",
    "            [params.wg_len, params.wg_width, params.wg_thickness]),\n",
    "        material=goos.material.Material(index=params.eps_wg))\n",
    "    \n",
    "    wg_bottom = goos.Cuboid(\n",
    "        pos=goos.Constant([\n",
    "            params.coupler_len / 2, 0,\n",
    "            -params.wg_thickness / 2 * params.etch_frac\n",
    "        ]),\n",
    "        extents=goos.Constant([\n",
    "            params.coupler_len, params.wg_width,\n",
    "            params.wg_thickness * (1 - params.etch_frac)\n",
    "        ]),\n",
    "        material=goos.material.Material(index=params.eps_wg))"
   ]
  },
  {
   "cell_type": "code",
   "execution_count": null,
   "metadata": {
    "colab": {},
    "colab_type": "code",
    "id": "nR-Mz8MHRz7y"
   },
   "outputs": [],
   "source": [
    "# set-up design area and finish eps we need. \n",
    "\n",
    "with plan:        \n",
    "\n",
    "    def initializer(size):\n",
    "        return np.random.random(size)\n",
    "\n",
    "    # Continuous optimization.\n",
    "    var, design_cont = goos.pixelated_cont_shape(\n",
    "        initializer=initializer,\n",
    "        pos=goos.Constant([\n",
    "            params.coupler_len / 2, 0,\n",
    "            params.wg_thickness / 2 * (1 - params.etch_frac)\n",
    "        ]),\n",
    "        extents=[\n",
    "            params.coupler_len, params.wg_width,\n",
    "            params.wg_thickness * params.etch_frac\n",
    "        ],\n",
    "        material=goos.material.Material(index=params.eps_bg),\n",
    "        material2=goos.material.Material(index=params.eps_wg),\n",
    "        pixel_size=[\n",
    "            params.pixel_size, params.wg_width, params.wg_thickness\n",
    "        ])\n",
    "\n",
    "    eps_cont = goos.GroupShape([substrate, waveguide, wg_bottom, design_cont])"
   ]
  },
  {
   "cell_type": "code",
   "execution_count": null,
   "metadata": {
    "colab": {},
    "colab_type": "code",
    "id": "c6ax11iaSl-h"
   },
   "outputs": [],
   "source": [
    "# Set-up continuous optimization objective function with eps.\n",
    "with plan:\n",
    "\n",
    "    sim_left_x = -params.wg_len\n",
    "    sim_right_x = params.coupler_len + params.buffer_len\n",
    "    pml_thick = params.dx * 10\n",
    "    sim_z_center = (params.wg_thickness / 2 + params.beam_dist -\n",
    "                    params.box_size) / 2\n",
    "    sim_z_extent = (params.wg_thickness + params.beam_dist + params.box_size +\n",
    "                    2000 + pml_thick * 2)\n",
    "\n",
    "    sources=[\n",
    "            maxwell.GaussianSource(\n",
    "                w0=params.beam_width / 2,\n",
    "                center=[\n",
    "                    params.coupler_len / 2, 0,\n",
    "                    params.wg_thickness / 2 + params.beam_dist\n",
    "                ],\n",
    "                extents=[params.beam_extents, 0, 0],\n",
    "                normal=[0, 0, -1],\n",
    "                power=1,\n",
    "                theta=np.deg2rad(params.source_angle_deg),\n",
    "                psi=np.pi / 2,\n",
    "                polarization_angle=0,\n",
    "                normalize_by_sim=True)\n",
    "        ]\n",
    "    outputs=[\n",
    "      maxwell.Epsilon(name=\"eps\"),\n",
    "      maxwell.ElectricField(name=\"field\"),\n",
    "      maxwell.WaveguideModeOverlap(name=\"overlap\",\n",
    "                                   center=[-params.wg_len / 2, 0, 0],\n",
    "                                   extents=[0, 1000, 2000],\n",
    "                                   normal=[-1, 0, 0],\n",
    "                                   mode_num=0,\n",
    "                                   power=1),\n",
    "     ]\n",
    "    simulation_space=maxwell.SimulationSpace(\n",
    "        mesh=maxwell.UniformMesh(dx=params.dx),\n",
    "        sim_region=goos.Box3d(\n",
    "            center=[(sim_left_x + sim_right_x) / 2, 0, sim_z_center],\n",
    "            extents=[sim_right_x - sim_left_x, 0, sim_z_extent],\n",
    "            ),\n",
    "        pml_thickness=[pml_thick, pml_thick, 0, 0, pml_thick, pml_thick])\n",
    "    \n",
    "    sim_cont = maxwell.fdfd_simulation(\n",
    "        name=\"sim_{}\".format(\"cont\"),\n",
    "        simulation_space = simulation_space,\n",
    "        wavelength=params.wlen,\n",
    "        sources = sources,\n",
    "        eps=eps_cont,\n",
    "        solver=\"local_direct\",\n",
    "        outputs=outputs,\n",
    "        background=goos.material.Material(index=1.444),\n",
    "\n",
    "    )\n",
    "\n"
   ]
  },
  {
   "cell_type": "code",
   "execution_count": null,
   "metadata": {
    "colab": {},
    "colab_type": "code",
    "id": "WDx20a5kMu5p"
   },
   "outputs": [],
   "source": [
    "obj_c = (1 - goos.abs(sim_cont[\"overlap\"]))**2 #elaborate how simple. It makes difference. This from our experience is the best. Try your options! \n",
    "obj_c = goos.rename(obj_c, name=\"obj_{}\".format(\"cont\"))\n",
    "    "
   ]
  },
  {
   "cell_type": "code",
   "execution_count": null,
   "metadata": {
    "colab": {},
    "colab_type": "code",
    "id": "Va0elEqEU0yI"
   },
   "outputs": [],
   "source": [
    "# set-up continuous optimization with scipy\n",
    "with plan:\n",
    "    cont_max_iter = 20\n",
    "    goos.opt.scipy_minimize(\n",
    "    obj_c,\n",
    "    \"L-BFGS-B\",\n",
    "    monitor_list=[sim_cont[\"eps\"], sim_cont[\"field\"], sim_cont[\"overlap\"], obj_c],\n",
    "    max_iters=cont_max_iter,\n",
    "    name=\"opt_cont\")\n",
    "\n",
    "    # Prevent optimization from optimizing over continuous variable.\n",
    "    var.freeze()\n"
   ]
  },
  {
   "cell_type": "code",
   "execution_count": null,
   "metadata": {
    "colab": {},
    "colab_type": "code",
    "id": "liVNtyD5VSij"
   },
   "outputs": [],
   "source": [
    "# set-up discretization.\n",
    "with plan:\n",
    "    grating_var, height_var, design_disc = goos.grating.discretize_to_pixelated_grating(\n",
    "        var,\n",
    "        height_fracs=[0, 1],\n",
    "        pixel_size=params.pixel_size,\n",
    "        start_height_ind=1,\n",
    "        end_height_ind=1,\n",
    "        min_features=params.min_features,\n",
    "        pos=[\n",
    "            params.coupler_len / 2, 0,\n",
    "            params.wg_thickness / 2 * (1 - params.etch_frac)\n",
    "        ],\n",
    "        extents=[\n",
    "            params.coupler_len, params.wg_width,\n",
    "            params.wg_thickness * params.etch_frac\n",
    "        ],\n",
    "        material=goos.material.Material(index=params.eps_bg),\n",
    "        material2=goos.material.Material(index=params.eps_wg),\n",
    "        grating_dir=0,\n",
    "        grating_dir_spacing=20,\n",
    "        etch_dir=2,\n",
    "        etch_dir_divs=1,\n",
    "        )\n",
    "    eps_disc = goos.GroupShape([substrate, waveguide, wg_bottom, design_disc])"
   ]
  },
  {
   "cell_type": "code",
   "execution_count": null,
   "metadata": {
    "colab": {},
    "colab_type": "code",
    "id": "c1TMc-fhVb7y"
   },
   "outputs": [],
   "source": [
    "# Set-up discrete optimization objective function with eps.\n",
    "with plan:\n",
    "\n",
    "    sim_left_x = -params.wg_len\n",
    "    sim_right_x = params.coupler_len + params.buffer_len\n",
    "    pml_thick = params.dx * 10\n",
    "    sim_z_center = (params.wg_thickness / 2 + params.beam_dist -\n",
    "                    params.box_size) / 2\n",
    "    sim_z_extent = (params.wg_thickness + params.beam_dist + params.box_size +\n",
    "                    2000 + pml_thick * 2)\n",
    "\n",
    "    simulation_space=maxwell.SimulationSpace(\n",
    "        mesh=maxwell.UniformMesh(dx=params.dx),\n",
    "        sim_region=goos.Box3d(\n",
    "            center=[(sim_left_x + sim_right_x) / 2, 0, sim_z_center],\n",
    "            extents=[sim_right_x - sim_left_x, 0, sim_z_extent],\n",
    "            ),\n",
    "        pml_thickness=[pml_thick, pml_thick, 0, 0, pml_thick, pml_thick])\n",
    "\n",
    "    sources=[\n",
    "            maxwell.GaussianSource(\n",
    "                w0=params.beam_width / 2,\n",
    "                center=[\n",
    "                    params.coupler_len / 2, 0,\n",
    "                    params.wg_thickness / 2 + params.beam_dist\n",
    "                ],\n",
    "                extents=[params.beam_extents, 0, 0],\n",
    "                normal=[0, 0, -1],\n",
    "                power=1,\n",
    "                theta=np.deg2rad(params.source_angle_deg),\n",
    "                psi=np.pi / 2,\n",
    "                polarization_angle=0,\n",
    "                normalize_by_sim=True)\n",
    "        ]\n",
    "\n",
    "    outputs=[\n",
    "      maxwell.Epsilon(name=\"eps\"),\n",
    "      maxwell.ElectricField(name=\"field\"),\n",
    "      maxwell.WaveguideModeOverlap(name=\"overlap\",\n",
    "                                   center=[-params.wg_len / 2, 0, 0],\n",
    "                                   extents=[0, 1000, 2000],\n",
    "                                   normal=[-1, 0, 0],\n",
    "                                   mode_num=0,\n",
    "                                   power=1),\n",
    "     ]\n",
    "    sim_disc = maxwell.fdfd_simulation(\n",
    "        name=\"sim_{}\".format(\"disc\"),\n",
    "        simulation_space = simulation_space,\n",
    "        wavelength=params.wlen,\n",
    "        sources = sources,\n",
    "        eps=eps_disc,\n",
    "        solver=\"local_direct\",\n",
    "        outputs=outputs,\n",
    "        background=goos.material.Material(index=params.eps_bg),\n",
    "\n",
    "    )\n",
    "\n"
   ]
  },
  {
   "cell_type": "code",
   "execution_count": null,
   "metadata": {
    "colab": {},
    "colab_type": "code",
    "id": "Yy_0XCevfZW8"
   },
   "outputs": [],
   "source": [
    "obj_d = (1 - goos.abs(sim_disc[\"overlap\"]))**2 #elaborate how simple\n",
    "obj_d = goos.rename(obj_d, name=\"obj_{}\".format(\"disc\"))"
   ]
  },
  {
   "cell_type": "code",
   "execution_count": null,
   "metadata": {
    "colab": {},
    "colab_type": "code",
    "id": "1v6g5VQ-Wrwz"
   },
   "outputs": [],
   "source": [
    "# set-up discrete optimization with scipy\n",
    "with plan:\n",
    "    goos.opt.scipy_minimize(\n",
    "        obj_d,\n",
    "        \"L-BFGS-B\",\n",
    "        monitor_list=[sim_disc[\"eps\"], sim_disc[\"field\"], sim_disc[\"overlap\"], obj_d],\n",
    "        max_iters=20,\n",
    "        name=\"opt_disc\",\n",
    "        ftol=1e-8)"
   ]
  },
  {
   "cell_type": "code",
   "execution_count": null,
   "metadata": {
    "colab": {},
    "colab_type": "code",
    "id": "hDNpv13zWVEi"
   },
   "outputs": [],
   "source": [
    "# run the optimization\n",
    "with plan:\n",
    "    plan.save()\n",
    "    plan.run()"
   ]
  },
  {
   "cell_type": "code",
   "execution_count": null,
   "metadata": {
    "colab": {},
    "colab_type": "code",
    "id": "21wOE3cwgCJy"
   },
   "outputs": [],
   "source": [
    "#visualizing the initial structure permittivity and the field.  \n",
    "with open(os.path.join(folder_plt, \"step{}.pkl\".format(1)), \"rb\") as fp:\n",
    "  data = pickle.load(fp)\n",
    "  \n",
    "  plt.figure(figsize=(10,12))\n",
    "  plt.imshow(\n",
    "      np.rot90(np.abs(data[\"monitor_data\"][\"sim_cont.eps\"][0].squeeze()),1,(0,1)))\n",
    "  plt.axis(\"off\")\n",
    "  plt.tight_layout()\n",
    "  plt.figure(figsize=(10,12))\n",
    "  plt.imshow(\n",
    "      np.rot90(np.abs(\n",
    "        data[\"monitor_data\"][\"sim_cont.field\"][1].squeeze()),1,(0,1)))\n",
    "  plt.axis(\"off\")\n",
    "  plt.tight_layout()\n",
    "  plt.show()\n",
    "  print(\"Overlap transmission value is \" + str(np.abs(data[\"monitor_data\"][\"sim_cont.overlap\"])**2))\n"
   ]
  },
  {
   "cell_type": "code",
   "execution_count": null,
   "metadata": {
    "colab": {},
    "colab_type": "code",
    "id": "VbMvrZiVG5-8"
   },
   "outputs": [],
   "source": [
    "#visualizing end of continous optimization\n",
    "with open(os.path.join(folder_plt, \"step{}.pkl\".format(cont_max_iter)), \"rb\") as fp:\n",
    "  data = pickle.load(fp)\n",
    "  \n",
    "  plt.figure(figsize=(10,12))\n",
    "  plt.imshow(\n",
    "      np.rot90(np.abs(data[\"monitor_data\"][\"sim_cont.eps\"][0].squeeze()),1,(0,1)))\n",
    "  plt.axis(\"off\")\n",
    "  plt.tight_layout()\n",
    "  plt.figure(figsize=(10,12))\n",
    "  plt.imshow(\n",
    "      np.rot90(np.abs(\n",
    "        data[\"monitor_data\"][\"sim_cont.field\"][1].squeeze()),1,(0,1)))\n",
    "  plt.axis(\"off\")\n",
    "  plt.tight_layout()\n",
    "  plt.show()\n",
    "  print(\"Overlap transmission value is \" + str(np.abs(data[\"monitor_data\"][\"sim_cont.overlap\"])**2))"
   ]
  },
  {
   "cell_type": "code",
   "execution_count": null,
   "metadata": {
    "colab": {},
    "colab_type": "code",
    "id": "udM8PGt8G_Mm"
   },
   "outputs": [],
   "source": [
    "#visualizing the structure and the field at the end of the discretization\n",
    "with open(os.path.join(folder_plt, \"step{}.pkl\".format(cont_max_iter+1)), \"rb\") as fp:\n",
    "  data = pickle.load(fp)\n",
    "  \n",
    "  plt.figure(figsize=(10,12))\n",
    "  plt.imshow(\n",
    "      np.rot90(np.abs(data[\"monitor_data\"][\"sim_disc.eps\"][0].squeeze()),1,(0,1)))\n",
    "  plt.axis(\"off\")\n",
    "  plt.tight_layout()\n",
    "  plt.figure(figsize=(10,12))\n",
    "  plt.imshow(\n",
    "      np.rot90(np.abs(\n",
    "        data[\"monitor_data\"][\"sim_disc.field\"][1].squeeze()),1,(0,1)))\n",
    "  plt.axis(\"off\")\n",
    "  plt.tight_layout()\n",
    "  plt.show()\n",
    "  print(\"Overlap transmission value is \" + str(np.abs(data[\"monitor_data\"][\"sim_disc.overlap\"])**2))"
   ]
  },
  {
   "cell_type": "code",
   "execution_count": null,
   "metadata": {
    "colab": {},
    "colab_type": "code",
    "id": "P-adCG6bWiF8"
   },
   "outputs": [],
   "source": [
    "#visualizing the structure and the field at the end of the optimization\n",
    "step = goos.util.get_latest_log_step(folder_plt)\n",
    "with open(os.path.join(folder_plt, \"step{}.pkl\".format(step)), \"rb\") as fp:\n",
    "  data = pickle.load(fp)\n",
    "\n",
    "plt.figure(figsize=(10,12))\n",
    "plt.imshow(\n",
    "    np.rot90(np.abs(data[\"monitor_data\"][\"sim_disc.eps\"][0].squeeze()),1,(0,1)))\n",
    "plt.axis(\"off\")\n",
    "plt.tight_layout()\n",
    "\n",
    "plt.figure(figsize=(10,12))\n",
    "plt.imshow(\n",
    "    np.rot90(np.abs(\n",
    "      data[\"monitor_data\"][\"sim_disc.field\"][1].squeeze()),1,(0,1)))\n",
    "plt.axis(\"off\")\n",
    "plt.tight_layout()\n",
    "\n",
    "plt.show()\n",
    "print(\"Overlap transmission value is \" + str(np.abs(data[\"monitor_data\"][\"sim_disc.overlap\"])**2))\n",
    "\n",
    "\n",
    "    "
   ]
  },
  {
   "cell_type": "code",
   "execution_count": null,
   "metadata": {
    "colab": {},
    "colab_type": "code",
    "id": "AHWjiKbrQzT5"
   },
   "outputs": [],
   "source": [
    "#Reading all pkl files in the saving folder to see optimization trajectory over iterations. \n",
    "disc_last_step = goos.util.get_latest_log_step(folder_plt)\n",
    "transmission = []\n",
    "for step in range(1, cont_max_iter+1):\n",
    "  with open(os.path.join(folder_plt, \"step{}.pkl\".format(step)), \"rb\") as fp:\n",
    "    data = pickle.load(fp)\n",
    "    transmission.append(np.abs(data[\"monitor_data\"][\"sim_cont.overlap\"])**2)\n",
    "for step in range(cont_max_iter+1, int(disc_last_step)+1):\n",
    "  with open(os.path.join(folder_plt, \"step{}.pkl\".format(step)), \"rb\") as fp:\n",
    "    data = pickle.load(fp)\n",
    "    transmission.append(np.abs(data[\"monitor_data\"][\"sim_disc.overlap\"])**2)\n"
   ]
  },
  {
   "cell_type": "code",
   "execution_count": null,
   "metadata": {
    "colab": {},
    "colab_type": "code",
    "id": "DEGG4gVrHQMd"
   },
   "outputs": [],
   "source": [
    "#plotting the overlap values for the all pkl files in the saving folder to see optimization trajectory over iterations. \n",
    "plt.figure(figsize=(12,6))\n",
    "plt.plot(range(1,int(disc_last_step)+1),transmission)\n",
    "plt.xlabel(\"Iteration\")\n",
    "plt.ylabel(\"Transmission\")\n",
    "plt.tight_layout()\n"
   ]
  },
  {
   "cell_type": "code",
   "execution_count": null,
   "metadata": {
    "colab": {},
    "colab_type": "code",
    "id": "IVDPS9-OxiK8"
   },
   "outputs": [],
   "source": []
  }
 ],
 "metadata": {
  "colab": {
   "collapsed_sections": [],
   "name": "grating_1d.ipynb",
   "provenance": []
  },
  "kernelspec": {
   "display_name": "Python 3",
   "name": "python3"
  }
 },
 "nbformat": 4,
 "nbformat_minor": 0
}
