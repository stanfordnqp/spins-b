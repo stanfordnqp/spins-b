{
 "cells": [
  {
   "cell_type": "markdown",
   "metadata": {},
   "source": [
    "# Introduction\n",
    "This notebook gives examples for processing spins monitor data.\n",
    "\n",
    "Logging data is stored in _monitors_ that are defined within the optimization plan. Every iteration of the optimization saves a log file in the form a Pickle file, which contains the values of all the monitors at that point in time. To help process this data, `spins` includes the `log_tools` (`spins.invdes.problem_graph.log_tools`).\n",
    "\n",
    "There are 3 general ways that these logs can be processed:\n",
    "1. Defining a `monitor_spec` file that describes how you want data to be plotted.\n",
    "2. Use lower-level `log_tools` functions to load the data and plot the data.\n",
    "3. Directly load and process the Pickle files."
   ]
  },
  {
   "cell_type": "markdown",
   "metadata": {},
   "source": [
    "## Prepare the log data and plotting information.\n",
    "The following three cells import the necessary libraries and load the optimization monitor data so it can be processed.\n",
    "\n",
    "A monitor specification file is a YAML file that lists all the monitors to be plotted as well as how they should be plotted (e.g. taking magnitude, real part, etc.). The monitor specification file also allows you to join multiple monitors into one plot (e.g. for joining different monitors across different transformations).\n",
    "\n",
    "Note that the monitor specification can be generated in code if desired (instead of actually saving it to a YAML file)."
   ]
  },
  {
   "cell_type": "code",
   "execution_count": null,
   "metadata": {},
   "outputs": [],
   "source": [
    "## Import libraries necessary for monitor data processing. ##\n",
    "from matplotlib import pyplot as plt\n",
    "import numpy as np\n",
    "import os\n",
    "import pandas as pd\n",
    "import pickle\n",
    "\n",
    "from spins.invdes.problem_graph import log_tools"
   ]
  },
  {
   "cell_type": "code",
   "execution_count": null,
   "metadata": {},
   "outputs": [],
   "source": [
    "## Define filenames. ##\n",
    "\n",
    "# `save_folder` is the full path to the directory containing the Pickle (.pkl) log files from the optimization.\n",
    "save_folder = os.getcwd()\n",
    "\n",
    "## Load the logged monitor data and monitor spec information. ##\n",
    "\n",
    "# `df` is a pandas dataframe containing all the data loaded from the log Pickle (.pkl) files.\n",
    "df = log_tools.create_log_data_frame(log_tools.load_all_logs(save_folder))"
   ]
  },
  {
   "cell_type": "markdown",
   "metadata": {},
   "source": [
    "## Option 1: Using a monitor specification file."
   ]
  },
  {
   "cell_type": "code",
   "execution_count": null,
   "metadata": {},
   "outputs": [],
   "source": [
    "# `monitor_spec_filename` is the full path to the monitor spec yml file.\n",
    "monitor_spec_filename = os.path.join(save_folder, \"monitor_spec.yml\")\n",
    "\n",
    "# `monitor_descriptions` now contains the information from the monitor_spec.yml file. It follows the format of\n",
    "# the schema found in `log_tools.monitor_spec`.\n",
    "monitor_descriptions = log_tools.load_from_yml(monitor_spec_filename)"
   ]
  },
  {
   "cell_type": "code",
   "execution_count": null,
   "metadata": {},
   "outputs": [],
   "source": [
    "## Plot all monitor data and save into a pdf file in the project folder. ##\n",
    "\n",
    "# `summary_out_name` is the full path to the pdf that will be generated containing plots of all the log data.\n",
    "summary_out_name = os.path.join(save_folder, \"summary.pdf\")\n",
    "\n",
    "# This command plots all the monitor data contained in the log files, saves it to the specified pdf file, and\n",
    "# displays to the screen.\n",
    "log_tools.plot_monitor_data(df, monitor_descriptions, summary_out_name)"
   ]
  },
  {
   "cell_type": "code",
   "execution_count": null,
   "metadata": {},
   "outputs": [],
   "source": [
    "## Print summary of scalar monitor values to screen during optimization without plotting. ##\n",
    "\n",
    "# This command is useful to quickly view the current optimization state or \n",
    "# if one is running an optimization somewhere where plotting to a screen is difficult.\n",
    "log_tools.display_summary(df, monitor_descriptions)"
   ]
  },
  {
   "cell_type": "markdown",
   "metadata": {},
   "source": [
    "## Option 2: Using `log_tools` to extract the data.\n",
    "The following 2 cells demonstrate extracting specific monitor data of interest in order to export the data or plot it yourself."
   ]
  },
  {
   "cell_type": "code",
   "execution_count": null,
   "metadata": {},
   "outputs": [],
   "source": [
    "## Get the iterations and data for a specific 1-dimensional scalar monitor (here, power vs iteration is demonstrated)\n",
    "## for a specific overlap monitor.\n",
    "\n",
    "# We call `get_joined_scalar_monitors` because we want the monitor data across all iterations rather than\n",
    "# just the data for particular transformation or iteration number (contrast with `get_single_monitor_data` usage\n",
    "# below).\n",
    "joined_monitor_data = log_tools.get_joined_scalar_monitors(\n",
    "    df, \"power1300\", event_name=\"optimizing\", scalar_operation=\"magnitude_squared\")\n",
    "\n",
    "# Now, the iteration numbers are stored in the list iterations and the overlap monitor power values are \n",
    "# stored in the list data. - If desired, these lists can now be exported for plotting in a different program\n",
    "# or can be plotted manually by the user in python, as demonstrated next.\n",
    "iterations = joined_monitor_data.iterations\n",
    "data = joined_monitor_data.data\n",
    "\n",
    "## Manually plot the power versus iteration data we've retrieved for the monitor of interest. ##\n",
    "plt.figure()\n",
    "plt.plot(iterations, data)\n",
    "plt.xlabel(\"Iterations\")\n",
    "plt.ylabel(\"Transmission\")\n",
    "plt.title(\"Transmission at 1300 nm\")"
   ]
  },
  {
   "cell_type": "code",
   "execution_count": null,
   "metadata": {},
   "outputs": [],
   "source": [
    "## Get the data for a specific 2-dimensional field slice monitor. ##\n",
    "\n",
    "# These functions get the monitor information for the monitor name specified above and return the data associated\n",
    "# with the monitor name. Here we retrieve the last stored field. We can specify `transformation_name` and\n",
    "# `iteration` to grab data from a particular transformation or iteration.\n",
    "field_data = log_tools.get_single_monitor_data(df, \"field1550\")\n",
    "\n",
    "# `field_data` is now an array with 3 entries, corresponding to the x-, y-, and z- components of the field,\n",
    "# so we apply a utility function to get the magnitude of the vector.\n",
    "field_mag = log_tools.process_field(field_data, vector_operation=\"magnitude\")\n",
    "\n",
    "## Manually plot this 2-dimensional field data. ##\n",
    "plt.figure()\n",
    "plt.imshow(np.squeeze(np.array(field_mag.T)), origin=\"lower\")\n",
    "plt.title(\"E-Field Magnitude at 1550 nm\")"
   ]
  },
  {
   "cell_type": "markdown",
   "metadata": {},
   "source": [
    "## Option 3: Directly manipulating Pickle files.\n",
    "This is the most tedious way of accessing data as there is only one Pickle file iteration.\n",
    "However, this enables one to inspect all of the available data.\n",
    "\n",
    "Note that data formats are subject to change."
   ]
  },
  {
   "cell_type": "code",
   "execution_count": null,
   "metadata": {},
   "outputs": [],
   "source": [
    "with open(os.path.join(save_folder, \"step1.pkl\"), \"rb\") as fp:\n",
    "    data = pickle.load(fp)\n",
    "    print(\"Log time: \", data[\"time\"])\n",
    "    print(\"Transmission at 1300 nm: \", data[\"monitor_data\"][\"power1300\"])"
   ]
  },
  {
   "cell_type": "code",
   "execution_count": null,
   "metadata": {},
   "outputs": [],
   "source": []
  }
 ],
 "metadata": {
  "kernelspec": {
   "display_name": "Python 3",
   "language": "python",
   "name": "python3"
  },
  "language_info": {
   "codemirror_mode": {
    "name": "ipython",
    "version": 3
   },
   "file_extension": ".py",
   "mimetype": "text/x-python",
   "name": "python",
   "nbconvert_exporter": "python",
   "pygments_lexer": "ipython3",
   "version": "3.5.2"
  }
 },
 "nbformat": 4,
 "nbformat_minor": 2
}
